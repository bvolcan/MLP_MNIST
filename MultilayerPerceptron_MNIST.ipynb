{
  "nbformat": 4,
  "nbformat_minor": 0,
  "metadata": {
    "colab": {
      "provenance": [],
      "gpuType": "T4",
      "include_colab_link": true
    },
    "kernelspec": {
      "name": "python3",
      "display_name": "Python 3"
    },
    "language_info": {
      "name": "python"
    },
    "accelerator": "GPU"
  },
  "cells": [
    {
      "cell_type": "markdown",
      "metadata": {
        "id": "view-in-github",
        "colab_type": "text"
      },
      "source": [
        "<a href=\"https://colab.research.google.com/github/bvolcan/MLP_MNIST/blob/main/MultilayerPerceptron_MNIST.ipynb\" target=\"_parent\"><img src=\"https://colab.research.google.com/assets/colab-badge.svg\" alt=\"Open In Colab\"/></a>"
      ]
    },
    {
      "cell_type": "markdown",
      "source": [
        "#Implementação do MLP - Inteligência Artificial Avançada\n",
        "##Bruno da Silva Volcan"
      ],
      "metadata": {
        "id": "fajlG6IMk4aG"
      }
    },
    {
      "cell_type": "markdown",
      "source": [
        "##Importação do dataframe"
      ],
      "metadata": {
        "id": "EllquXGRlTjn"
      }
    },
    {
      "cell_type": "code",
      "execution_count": null,
      "metadata": {
        "id": "mba8P9i_3G4Q"
      },
      "outputs": [],
      "source": [
        "import matplotlib.pyplot as plt\n",
        "import numpy as np\n",
        "import pandas as pd\n",
        "import seaborn as sns\n",
        "\n",
        "from sklearn.datasets import load_digits"
      ]
    },
    {
      "cell_type": "code",
      "source": [
        "digits = load_digits()"
      ],
      "metadata": {
        "id": "272aETwR5MIa"
      },
      "execution_count": null,
      "outputs": []
    },
    {
      "cell_type": "code",
      "source": [
        "digits.keys()"
      ],
      "metadata": {
        "id": "TL5aYdAUR5kW",
        "colab": {
          "base_uri": "https://localhost:8080/"
        },
        "outputId": "cd5d6960-d15e-4c22-b93b-29f9b1e1e633"
      },
      "execution_count": null,
      "outputs": [
        {
          "output_type": "execute_result",
          "data": {
            "text/plain": [
              "dict_keys(['data', 'target', 'frame', 'feature_names', 'target_names', 'images', 'DESCR'])"
            ]
          },
          "metadata": {},
          "execution_count": 72
        }
      ]
    },
    {
      "cell_type": "markdown",
      "source": [
        "##Separação do dataset entre treino e teste"
      ],
      "metadata": {
        "id": "D1wM_BrPjmTd"
      }
    },
    {
      "cell_type": "code",
      "source": [
        "from sklearn.model_selection import train_test_split"
      ],
      "metadata": {
        "id": "dXDLw4vKQI4u"
      },
      "execution_count": null,
      "outputs": []
    },
    {
      "cell_type": "code",
      "source": [
        "mergedData = np.concatenate( [ np.array( digits.data ), np.array( [digits.target] ).T ], axis = 1)\n",
        "\n",
        "digits.feature_names.append('target')\n",
        "\n",
        "mergedDataFrame = pd.DataFrame(data=mergedData, columns=digits.feature_names)\n",
        "\n",
        "train, test = train_test_split(mergedDataFrame, test_size=0.3, stratify=mergedDataFrame[\"target\"])\n",
        "\n",
        "aux = train[train.columns.difference([\"target\"])]/train[train.columns.difference([\"target\"])].max()\n",
        "train[train.columns.difference([\"target\"])] = aux.fillna(0)\n",
        "\n",
        "aux = test[test.columns.difference([\"target\"])]/test[test.columns.difference([\"target\"])].max()\n",
        "test[test.columns.difference([\"target\"])] = aux.fillna(0)"
      ],
      "metadata": {
        "id": "6XhfQvE2SXrW"
      },
      "execution_count": null,
      "outputs": []
    },
    {
      "cell_type": "markdown",
      "source": [
        "##Definição das funções auxiliares"
      ],
      "metadata": {
        "id": "4KjVLaB4jqpt"
      }
    },
    {
      "cell_type": "code",
      "source": [
        "def leaky_relu(input, deriv=False):\n",
        "  if deriv:\n",
        "    aux = input.copy()\n",
        "    output = np.array(np.where(aux > 0, 1, 0.001))\n",
        "  else:\n",
        "    output = np.where(input > 0, input, input * 0.001)\n",
        "\n",
        "  return output"
      ],
      "metadata": {
        "id": "qZYhkXWk770v"
      },
      "execution_count": null,
      "outputs": []
    },
    {
      "cell_type": "markdown",
      "source": [
        "Apesar de ter sido definida, a derivada da função softmax a seguir não foi utilizada para o cálculo do delta de saída no backpropagation pois estava ocasionando valores que tendiam ao infinito."
      ],
      "metadata": {
        "id": "YSk9caqklaDk"
      }
    },
    {
      "cell_type": "code",
      "source": [
        "def softmax(input, deriv = False):\n",
        "  e_x = np.exp(input - np.max(input))\n",
        "  output = e_x / e_x.sum()\n",
        "  if deriv:\n",
        "    aux = - output.dot(output.T)\n",
        "    output = np.diag(output) + aux\n",
        "  return output"
      ],
      "metadata": {
        "id": "MFoJ4uhrnk3d"
      },
      "execution_count": null,
      "outputs": []
    },
    {
      "cell_type": "code",
      "source": [
        "def loss(prediction, target):\n",
        "  return ((-np.log(prediction)) * target).sum(axis=1).mean()"
      ],
      "metadata": {
        "id": "FHABQuSAY4DU"
      },
      "execution_count": null,
      "outputs": []
    },
    {
      "cell_type": "code",
      "source": [
        "def acc(prediction, target):\n",
        "  return (prediction == target).astype(int)"
      ],
      "metadata": {
        "id": "vYrtS7CVZIo1"
      },
      "execution_count": null,
      "outputs": []
    },
    {
      "cell_type": "code",
      "source": [
        "def to_categorical(prediction):\n",
        "  return prediction.argmax()"
      ],
      "metadata": {
        "id": "JbjsA2aXbd1F"
      },
      "execution_count": null,
      "outputs": []
    },
    {
      "cell_type": "markdown",
      "source": [
        "##Estruturação da classe utilizada para cada camada do MLP"
      ],
      "metadata": {
        "id": "MBM1Bwdljv-1"
      }
    },
    {
      "cell_type": "code",
      "source": [
        "class Perceptron_layer:\n",
        "  def __init__(self, size, input_size, is_output = False):\n",
        "    self.weights = np.random.normal(loc=0.5, scale=0.1, size = [input_size, size])\n",
        "    self.biases = np.zeros(size)\n",
        "    self.is_output = is_output\n",
        "\n",
        "  def evaluate(self, input):\n",
        "    matrix_calc = input.dot(self.weights) + self.biases\n",
        "    outputs = softmax(matrix_calc) if self.is_output else leaky_relu(matrix_calc)\n",
        "    self.outputs = outputs.copy()\n",
        "    return self.outputs\n",
        "\n",
        "  def setWeights(self, weights):\n",
        "    self.weights = weights.copy()\n",
        "\n",
        "  def setBiases(self, biases):\n",
        "    self.biases = biases.copy()"
      ],
      "metadata": {
        "id": "Abq_aTZTOQbi"
      },
      "execution_count": null,
      "outputs": []
    },
    {
      "cell_type": "markdown",
      "source": [
        "##Inicialização das camadas"
      ],
      "metadata": {
        "id": "yCwt3GNUj34-"
      }
    },
    {
      "cell_type": "code",
      "source": [
        "HIDDEN_1_SIZE = 64\n",
        "HIDDEN_2_SIZE = 20\n",
        "OUTPUT_SIZE = 10"
      ],
      "metadata": {
        "id": "2uRVHdNhPde_"
      },
      "execution_count": null,
      "outputs": []
    },
    {
      "cell_type": "code",
      "source": [
        "np.random.seed(5)\n",
        "\n",
        "hiddenLayer1 = Perceptron_layer(HIDDEN_1_SIZE, train.shape[1] - 1)\n",
        "\n",
        "hiddenLayer2 = Perceptron_layer(HIDDEN_2_SIZE, HIDDEN_1_SIZE)\n",
        "\n",
        "outputLayer = Perceptron_layer(OUTPUT_SIZE, HIDDEN_2_SIZE, is_output = True)"
      ],
      "metadata": {
        "id": "t1j6KbLGCLTe"
      },
      "execution_count": null,
      "outputs": []
    },
    {
      "cell_type": "markdown",
      "source": [
        "##Treinamento"
      ],
      "metadata": {
        "id": "8m5N43S9j9Sl"
      }
    },
    {
      "cell_type": "code",
      "source": [
        "import time"
      ],
      "metadata": {
        "id": "uYaFtOsAQlcn"
      },
      "execution_count": null,
      "outputs": []
    },
    {
      "cell_type": "code",
      "source": [
        "EPOCHS = 400\n",
        "LEARNING_RATE = 1e-2\n",
        "\n",
        "total_time = 0.0\n",
        "acc_list = []\n",
        "cost = 0\n",
        "for epoch in range(EPOCHS):\n",
        "  local_acc = 0.0\n",
        "  total_acc = 0.0\n",
        "  start = time.time()\n",
        "\n",
        "  for row, target in zip(train.drop(columns=['target']).values, train['target'].values):\n",
        "    input_row = np.array([row])\n",
        "\n",
        "    hidden1Output = hiddenLayer1.evaluate(input_row)\n",
        "    hidden2Output = hiddenLayer2.evaluate(hidden1Output)\n",
        "    output = outputLayer.evaluate(hidden2Output)\n",
        "    out_categorical = to_categorical(output)\n",
        "\n",
        "    local_acc += acc(out_categorical, target)\n",
        "\n",
        "    error = output.copy()\n",
        "    error[0][int(target)] -= 1\n",
        "\n",
        "    delta_out = error\n",
        "    delta_h2 = np.dot(delta_out, outputLayer.weights.T) * leaky_relu(hidden2Output, deriv = True)\n",
        "    delta_h1 = np.dot(delta_h2, hiddenLayer2.weights.T) * leaky_relu(hidden1Output, deriv = True)\n",
        "\n",
        "    outputLayer.setWeights(outputLayer.weights - LEARNING_RATE * hidden2Output.T.dot(delta_out))\n",
        "    outputLayer.setBiases(outputLayer.biases - LEARNING_RATE * delta_out)\n",
        "\n",
        "    hiddenLayer2.setWeights(hiddenLayer2.weights - LEARNING_RATE * hidden1Output.T.dot(delta_h2))\n",
        "    hiddenLayer2.setBiases(hiddenLayer2.biases - LEARNING_RATE * delta_h2)\n",
        "\n",
        "    hiddenLayer1.setWeights(hiddenLayer1.weights - LEARNING_RATE * input_row.T.dot(delta_h1))\n",
        "    hiddenLayer1.setBiases(hiddenLayer1.biases - LEARNING_RATE * delta_h1)\n",
        "\n",
        "  train_time = round(time.time() - start,3)\n",
        "  total_time += train_time\n",
        "\n",
        "  total_acc = local_acc/train.shape[0]\n",
        "  acc_list.append(total_acc)\n",
        "\n",
        "  if (epoch+1) % 10 == 0:\n",
        "    print(f\"Epoch {epoch+1}: acc = {total_acc} | train_time = {train_time} s | total_time = {round(total_time,3)} s\")\n"
      ],
      "metadata": {
        "id": "AHck8T1FGwF2",
        "colab": {
          "base_uri": "https://localhost:8080/"
        },
        "outputId": "158805c3-3041-4627-a946-76e75ec22f4d"
      },
      "execution_count": null,
      "outputs": [
        {
          "output_type": "stream",
          "name": "stdout",
          "text": [
            "Epoch 10: acc = 0.09069212410501193 | train_time = 0.245 s | total_time = 3.007 s\n",
            "Epoch 20: acc = 0.10660302307080351 | train_time = 0.133 s | total_time = 4.645 s\n",
            "Epoch 30: acc = 0.11694510739856802 | train_time = 0.145 s | total_time = 6.046 s\n",
            "Epoch 40: acc = 0.12410501193317422 | train_time = 0.145 s | total_time = 7.461 s\n",
            "Epoch 50: acc = 0.13842482100238662 | train_time = 0.135 s | total_time = 8.874 s\n",
            "Epoch 60: acc = 0.1654733492442323 | train_time = 0.149 s | total_time = 10.286 s\n",
            "Epoch 70: acc = 0.17024661893396978 | train_time = 0.133 s | total_time = 11.7 s\n",
            "Epoch 80: acc = 0.18536197295147175 | train_time = 0.136 s | total_time = 13.108 s\n",
            "Epoch 90: acc = 0.18217979315831345 | train_time = 0.235 s | total_time = 15.244 s\n",
            "Epoch 100: acc = 0.22832140015910898 | train_time = 0.135 s | total_time = 17.077 s\n",
            "Epoch 110: acc = 0.25139220365950676 | train_time = 0.138 s | total_time = 18.484 s\n",
            "Epoch 120: acc = 0.2569610182975338 | train_time = 0.145 s | total_time = 19.887 s\n",
            "Epoch 130: acc = 0.2856006364359586 | train_time = 0.141 s | total_time = 21.289 s\n",
            "Epoch 140: acc = 0.33731105807478123 | train_time = 0.136 s | total_time = 22.712 s\n",
            "Epoch 150: acc = 0.34765314240254575 | train_time = 0.139 s | total_time = 24.134 s\n",
            "Epoch 160: acc = 0.3611774065234686 | train_time = 0.136 s | total_time = 25.538 s\n",
            "Epoch 170: acc = 0.38663484486873506 | train_time = 0.236 s | total_time = 27.469 s\n",
            "Epoch 180: acc = 0.3826571201272872 | train_time = 0.139 s | total_time = 29.552 s\n",
            "Epoch 190: acc = 0.45823389021479716 | train_time = 0.139 s | total_time = 30.951 s\n",
            "Epoch 200: acc = 0.5441527446300716 | train_time = 0.135 s | total_time = 32.37 s\n",
            "Epoch 210: acc = 0.6006364359586317 | train_time = 0.136 s | total_time = 33.774 s\n",
            "Epoch 220: acc = 0.6587112171837709 | train_time = 0.135 s | total_time = 35.165 s\n",
            "Epoch 230: acc = 0.7390612569610183 | train_time = 0.144 s | total_time = 36.585 s\n",
            "Epoch 240: acc = 0.8273667462211615 | train_time = 0.135 s | total_time = 37.994 s\n",
            "Epoch 250: acc = 0.8703261734287987 | train_time = 0.241 s | total_time = 39.702 s\n",
            "Epoch 260: acc = 0.9212410501193318 | train_time = 0.136 s | total_time = 41.983 s\n",
            "Epoch 270: acc = 0.94351630867144 | train_time = 0.141 s | total_time = 43.395 s\n",
            "Epoch 280: acc = 0.9506762132060461 | train_time = 0.139 s | total_time = 44.822 s\n",
            "Epoch 290: acc = 0.9785202863961814 | train_time = 0.135 s | total_time = 46.226 s\n",
            "Epoch 300: acc = 0.9880668257756563 | train_time = 0.151 s | total_time = 47.65 s\n",
            "Epoch 310: acc = 0.9920445505171042 | train_time = 0.139 s | total_time = 49.065 s\n",
            "Epoch 320: acc = 0.9920445505171042 | train_time = 0.136 s | total_time = 50.48 s\n",
            "Epoch 330: acc = 0.9928400954653938 | train_time = 0.241 s | total_time = 52.027 s\n",
            "Epoch 340: acc = 0.9928400954653938 | train_time = 0.215 s | total_time = 54.469 s\n",
            "Epoch 350: acc = 0.9936356404136834 | train_time = 0.161 s | total_time = 55.918 s\n",
            "Epoch 360: acc = 0.9936356404136834 | train_time = 0.137 s | total_time = 57.338 s\n",
            "Epoch 370: acc = 0.994431185361973 | train_time = 0.137 s | total_time = 58.747 s\n",
            "Epoch 380: acc = 0.994431185361973 | train_time = 0.144 s | total_time = 60.166 s\n",
            "Epoch 390: acc = 0.9753381066030231 | train_time = 0.147 s | total_time = 61.612 s\n",
            "Epoch 400: acc = 0.9928400954653938 | train_time = 0.149 s | total_time = 63.045 s\n"
          ]
        }
      ]
    },
    {
      "cell_type": "markdown",
      "source": [
        "###Gráfico de acurácia ao longo do treino"
      ],
      "metadata": {
        "id": "oIoa2BSZkEVF"
      }
    },
    {
      "cell_type": "code",
      "source": [
        "plt.plot(range(EPOCHS), acc_list)\n",
        "plt.xlabel(\"Épocas\")\n",
        "plt.ylabel(\"Acurácia\")\n",
        "plt.title(\"Acurácia ao longo do treino\")\n",
        "plt.show()"
      ],
      "metadata": {
        "colab": {
          "base_uri": "https://localhost:8080/",
          "height": 474
        },
        "id": "XZph-tYnieA0",
        "outputId": "f5a75d8c-7576-4376-d634-70f7276b6216"
      },
      "execution_count": null,
      "outputs": [
        {
          "output_type": "display_data",
          "data": {
            "text/plain": [
              "<Figure size 640x480 with 1 Axes>"
            ],
            "image/png": "[encoded data removed]"
          },
          "metadata": {}
        }
      ]
    },
    {
      "cell_type": "markdown",
      "source": [
        "##Predição dos dados de teste"
      ],
      "metadata": {
        "id": "vvhfSUdkkMkt"
      }
    },
    {
      "cell_type": "code",
      "source": [
        "local_acc = 0\n",
        "pred = []\n",
        "for row, target in zip(test.drop(columns=['target']).values, test['target'].values):\n",
        "    input_row = np.array([row])\n",
        "\n",
        "    hidden1Output = hiddenLayer1.evaluate(input_row)\n",
        "    hidden2Output = hiddenLayer2.evaluate(hidden1Output)\n",
        "    output = outputLayer.evaluate(hidden2Output)\n",
        "    out_categorical = to_categorical(output)\n",
        "    pred.append(out_categorical)\n",
        "\n",
        "    local_acc += acc(out_categorical, target)\n",
        "print('Acurácia em teste: ' + str((local_acc/test['target'].shape[0]) * 100) + '%')"
      ],
      "metadata": {
        "colab": {
          "base_uri": "https://localhost:8080/"
        },
        "id": "mJTwN9v3U6O_",
        "outputId": "419fd795-b18a-4b59-eed0-10d34a89935f"
      },
      "execution_count": null,
      "outputs": [
        {
          "output_type": "stream",
          "name": "stdout",
          "text": [
            "Acurácia em teste: 96.29629629629629%\n"
          ]
        }
      ]
    },
    {
      "cell_type": "markdown",
      "source": [
        "###Matriz de confusão em teste"
      ],
      "metadata": {
        "id": "eyVgOzN3gV0O"
      }
    },
    {
      "cell_type": "code",
      "source": [
        "from sklearn.metrics import ConfusionMatrixDisplay, confusion_matrix\n",
        "\n",
        "cm = confusion_matrix(test['target'].values, pred)\n",
        "cm_display = ConfusionMatrixDisplay(cm).plot()"
      ],
      "metadata": {
        "colab": {
          "base_uri": "https://localhost:8080/",
          "height": 449
        },
        "id": "xDb5a9JvfyoE",
        "outputId": "35f1bc4e-5016-4e4f-93a9-223ad58b0306"
      },
      "execution_count": null,
      "outputs": [
        {
          "output_type": "display_data",
          "data": {
            "text/plain": [
              "<Figure size 640x480 with 2 Axes>"
            ],
            "image/png": "[encoded data removed]"
          },
          "metadata": {}
        }
      ]
    }
  ]
}